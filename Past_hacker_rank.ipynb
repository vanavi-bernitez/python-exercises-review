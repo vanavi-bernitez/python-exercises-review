{
 "cells": [
  {
   "cell_type": "markdown",
   "metadata": {},
   "source": [
    "# Primero"
   ]
  },
  {
   "cell_type": "code",
   "execution_count": 34,
   "metadata": {},
   "outputs": [
    {
     "name": "stdout",
     "output_type": "stream",
     "text": [
      "70\n"
     ]
    }
   ],
   "source": [
    "from collections import Counter\n",
    "\n",
    "profit = 0\n",
    "\n",
    "stock_shoes = int(input())\n",
    "size_stockShoes = Counter([int(new_stock) for new_stock in input().split()]) \n",
    "\n",
    "costumers = int(input())\n",
    "\n",
    "for _ in range(costumers):\n",
    "    size_asked, price = [int(new_stock) for new_stock in input().split()]\n",
    "    if size_stockShoes[size_asked]:\n",
    "        profit += price\n",
    "        size_stockShoes[size_asked] -= 1\n",
    "    else:\n",
    "        pass\n",
    "\n",
    "print(profit)"
   ]
  },
  {
   "cell_type": "markdown",
   "metadata": {},
   "source": [
    "# Segundo "
   ]
  },
  {
   "cell_type": "code",
   "execution_count": 36,
   "metadata": {},
   "outputs": [
    {
     "name": "stdout",
     "output_type": "stream",
     "text": [
      "[(0, 0, 0), (0, 0, 1), (0, 1, 0), (0, 1, 1), (1, 0, 0), (1, 0, 1), (1, 1, 0)]\n"
     ]
    }
   ],
   "source": [
    "x = int(input())\n",
    "y = int(input())\n",
    "z = int(input())\n",
    "n = int(input())\n",
    "\n",
    "permutation = [(i,j,k) for i in range(0,x+1) for j in range(0,y+1) for k in range(0,z+1) if (i+j+k) != n]\n",
    "                \n",
    "print(permutation)"
   ]
  },
  {
   "cell_type": "markdown",
   "metadata": {},
   "source": [
    "# Tercero"
   ]
  },
  {
   "cell_type": "code",
   "execution_count": 14,
   "metadata": {},
   "outputs": [
    {
     "name": "stdout",
     "output_type": "stream",
     "text": [
      "20\n",
      "[3, 5, 6, 7, 19, 20, 21]\n"
     ]
    }
   ],
   "source": [
    "total_scores = int(input())\n",
    "each_score = sorted([int(record_score) for record_score in input().split()])\n",
    "\n",
    "real = list(set(each_score))\n",
    "\n",
    "print(real[-2])\n"
   ]
  },
  {
   "cell_type": "markdown",
   "metadata": {},
   "source": [
    "# Cuarto"
   ]
  },
  {
   "cell_type": "code",
   "execution_count": 13,
   "metadata": {},
   "outputs": [
    {
     "name": "stdout",
     "output_type": "stream",
     "text": [
      "a\n",
      "o\n"
     ]
    }
   ],
   "source": [
    "total_students = int(input())\n",
    "\n",
    "students_info = [[input(), float(input())] for _ in range(0, total_students)]\n",
    "\n",
    "scores_students = sorted(set([j for i,j in students_info]))\n",
    "second_lowest_score = scores_students[1]\n",
    "\n",
    "students_second_lowest = sorted([i for i,j in students_info if j == second_lowest_score])\n",
    "\n",
    "for name in students_second_lowest:\n",
    "    print(name)\n"
   ]
  }
 ],
 "metadata": {
  "kernelspec": {
   "display_name": "Python 3.9.13 ('base')",
   "language": "python",
   "name": "python3"
  },
  "language_info": {
   "codemirror_mode": {
    "name": "ipython",
    "version": 3
   },
   "file_extension": ".py",
   "mimetype": "text/x-python",
   "name": "python",
   "nbconvert_exporter": "python",
   "pygments_lexer": "ipython3",
   "version": "3.9.13"
  },
  "orig_nbformat": 4,
  "vscode": {
   "interpreter": {
    "hash": "2fffb9416fef0f14d8c3180827823918a8a81fff6ed4e50b546e97970237eb04"
   }
  }
 },
 "nbformat": 4,
 "nbformat_minor": 2
}
