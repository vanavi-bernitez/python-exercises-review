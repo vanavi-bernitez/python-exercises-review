{
 "cells": [
  {
   "cell_type": "markdown",
   "metadata": {},
   "source": [
    "## War game \n",
    "Each player turns up a card at the same time and the player with the higher card takes both cards and puts them face down, on the bottom of his deck. If the cards are the same rank, it is war. In this situation the users take out an aditional set of 10 cards and continue setting cards  on the table from their main deck. The player with the higher card wins the war and take the aditional set of cards, and so on.\n",
    "\n",
    "    Each card is created in Card class\n",
    "    Deck utilities are inside the Deck class: creation, shuffle and card removal from the main deck.\n",
    "    Inside Game_users class a new player can turn up a card from their own deck and pick  the table cards if wins the round\n",
    "    Game general logic can be found inside the game_on loop\n",
    "\n",
    "#### Topics covered with this exercise:\n",
    "* Classes\n",
    "* Data structures"
   ]
  },
  {
   "cell_type": "code",
   "execution_count": 1,
   "metadata": {},
   "outputs": [],
   "source": [
    "from random import shuffle"
   ]
  },
  {
   "cell_type": "code",
   "execution_count": 1,
   "metadata": {},
   "outputs": [],
   "source": [
    "suits = ('Hearts', 'Diamonds', 'Spades', 'Clubs')\n",
    "ranks = ('Two', 'Three', 'Four', 'Five', 'Six', 'Seven', 'Eight', 'Nine', 'Ten', 'Jack', 'Queen', 'King', 'Ace')\n",
    "values = {'Two':2, 'Three':3, 'Four':4, 'Five':5, 'Six':6, 'Seven':7, 'Eight':8, \n",
    "            'Nine':9, 'Ten':10, 'Jack':11, 'Queen':12, 'King':13, 'Ace':14}"
   ]
  },
  {
   "cell_type": "code",
   "execution_count": 2,
   "metadata": {},
   "outputs": [],
   "source": [
    "class Card:\n",
    "\n",
    "    def __init__(self, suit, rank):\n",
    "        self.suit = suit\n",
    "        self.rank = rank\n",
    "        self.value = values[rank]\n",
    "\n",
    "    def __str__(self):\n",
    "        return f\"{self.rank} of {self.suit}\""
   ]
  },
  {
   "cell_type": "code",
   "execution_count": 3,
   "metadata": {},
   "outputs": [],
   "source": [
    "class Deck:\n",
    "    \n",
    "    def __init__(self):\n",
    "        self.all_cards = []\n",
    "        for suit in suits:\n",
    "            for rank in ranks:\n",
    "                created_card = Card(suit, rank) \n",
    "                self.all_cards.append(created_card)\n",
    "\n",
    "    def shuffle_cards(self):\n",
    "        shuffle(self.all_cards)\n",
    "\n",
    "    def remove_card(self):\n",
    "        return self.all_cards.pop()\n",
    "      "
   ]
  },
  {
   "cell_type": "code",
   "execution_count": 4,
   "metadata": {},
   "outputs": [],
   "source": [
    "class Game_users:\n",
    "    def __init__(self,name):\n",
    "        self.player_hand = []\n",
    "        self.name = name\n",
    "\n",
    "    def remove_player_card(self):\n",
    "        return self.player_hand.pop(0)\n",
    "\n",
    "    def add_player_card(self, new_player_cards):\n",
    "        if type(new_player_cards) == type([]):\n",
    "            self.player_hand.extend(new_player_cards)\n",
    "\n",
    "        else:\n",
    "            self.player_hand.append(new_player_cards)\n",
    "\n",
    "    def __str__(self):\n",
    "        return f\"{self.name} has {len(self.player_hand)} cards\"\n"
   ]
  },
  {
   "cell_type": "code",
   "execution_count": 5,
   "metadata": {},
   "outputs": [],
   "source": [
    "player1 = Game_users(\"Juan\")\n",
    "player2 = Game_users(\"Sofi\")\n",
    "\n",
    "new_deck = Deck()\n",
    "new_deck.shuffle_cards()\n",
    "\n",
    "for x in range(int(len(new_deck.all_cards)/2)):\n",
    "\n",
    "    player1.add_player_card(new_deck.remove_card())\n",
    "    player2.add_player_card(new_deck.remove_card())\n"
   ]
  },
  {
   "cell_type": "markdown",
   "metadata": {},
   "source": [
    "## Main"
   ]
  },
  {
   "cell_type": "code",
   "execution_count": 6,
   "metadata": {},
   "outputs": [
    {
     "name": "stdout",
     "output_type": "stream",
     "text": [
      " counter: 1\n",
      " counter: 2\n",
      " counter: 3\n",
      " counter: 4\n",
      " counter: 5\n",
      " counter: 6\n",
      " counter: 7\n",
      " counter: 8\n",
      " counter: 9\n",
      " counter: 10\n",
      " counter: 11\n",
      " counter: 12\n",
      " counter: 13\n",
      " counter: 14\n",
      " counter: 15\n",
      " counter: 16\n",
      " counter: 17\n",
      " counter: 18\n",
      " counter: 19\n",
      " counter: 20\n",
      " counter: 21\n",
      " counter: 22\n",
      " counter: 23\n",
      " counter: 24\n",
      " counter: 25\n",
      " counter: 26\n",
      " counter: 27\n",
      " counter: 28\n",
      " counter: 29\n",
      " counter: 30\n",
      " counter: 31\n",
      " counter: 32\n",
      " counter: 33\n",
      " counter: 34\n",
      " counter: 35\n",
      " counter: 36\n",
      " counter: 37\n",
      " counter: 38\n",
      " counter: 39\n",
      " counter: 40\n",
      " counter: 41\n",
      " counter: 42\n",
      " counter: 43\n",
      " counter: 44\n",
      " counter: 45\n",
      " counter: 46\n",
      " counter: 47\n",
      " counter: 48\n",
      " counter: 49\n",
      " counter: 50\n",
      " counter: 51\n",
      " counter: 52\n",
      " counter: 53\n",
      " counter: 54\n",
      " counter: 55\n",
      " counter: 56\n",
      " counter: 57\n",
      " counter: 58\n",
      " counter: 59\n",
      " counter: 60\n",
      " counter: 61\n",
      " counter: 62\n",
      " counter: 63\n",
      "Sofi won!!\n"
     ]
    }
   ],
   "source": [
    "game_on = True\n",
    "\n",
    "while game_on:\n",
    "\n",
    "    if len(player2.player_hand) == 0:\n",
    "        print(f\"{player1.name} won!!\")\n",
    "        game_on = False\n",
    "        break\n",
    "\n",
    "    elif len(player1.player_hand) == 0:\n",
    "        print(f\"{player2.name} won!!\")\n",
    "        game_on = False\n",
    "        break\n",
    "\n",
    "    else:\n",
    "        player1_table_cards = []\n",
    "        player1_table_cards.append(player1.remove_player_card())\n",
    "        player2_table_cards = []\n",
    "        player2_table_cards.append(player2.remove_player_card())\n",
    "        \n",
    "        at_war = True\n",
    "\n",
    "        while at_war:\n",
    "            \n",
    "            if player1_table_cards[-1].value > player2_table_cards[-1].value:\n",
    "                player1.add_player_card(player1_table_cards)\n",
    "                player1.add_player_card(player2_table_cards)\n",
    "                at_war = False \n",
    "\n",
    "            elif player1_table_cards[-1].value < player2_table_cards[-1].value:\n",
    "                player2.add_player_card(player1_table_cards)\n",
    "                player2.add_player_card(player2_table_cards)\n",
    "                at_war = False\n",
    "\n",
    "            else:\n",
    "\n",
    "                if len(player1.player_hand) < 10:\n",
    "                    print(f\"{player2.name} won!!\")\n",
    "                    game_on = False\n",
    "                    break\n",
    "\n",
    "                elif len(player2.player_hand) < 10:\n",
    "                    print(f\"{player1.name} won!!\")\n",
    "                    game_on = False\n",
    "                    break\n",
    "\n",
    "                else:\n",
    "                    for y in range(10):\n",
    "                         player1_table_cards.append(player1.remove_player_card())\n",
    "                         player2_table_cards.append(player2.remove_player_card())"
   ]
  }
 ],
 "metadata": {
  "kernelspec": {
   "display_name": "Python 3.9.13 ('base')",
   "language": "python",
   "name": "python3"
  },
  "language_info": {
   "codemirror_mode": {
    "name": "ipython",
    "version": 3
   },
   "file_extension": ".py",
   "mimetype": "text/x-python",
   "name": "python",
   "nbconvert_exporter": "python",
   "pygments_lexer": "ipython3",
   "version": "3.9.13"
  },
  "orig_nbformat": 4,
  "vscode": {
   "interpreter": {
    "hash": "2fffb9416fef0f14d8c3180827823918a8a81fff6ed4e50b546e97970237eb04"
   }
  }
 },
 "nbformat": 4,
 "nbformat_minor": 2
}
