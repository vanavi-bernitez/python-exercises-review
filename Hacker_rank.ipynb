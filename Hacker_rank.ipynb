{
 "cells": [
  {
   "cell_type": "markdown",
   "metadata": {},
   "source": [
    "## Hash maps\n",
    "Hacker Rank exercise: https://www.hackerrank.com/challenges/linkedin-practice-dictionaries-and-maps/problem?h_r=internal-search\n",
    "\n",
    "Fill in a phone contact dictionary and then search by name the respective number assigned.\n",
    " \n",
    "    The dictionary will be filled with the input information from the for loop.\n",
    "    And the search for contact numbers is accomplished by the dictionary keys. The program ends when the contact number the user searched for isn't found.\n",
    "\n",
    "#### Topics covered with this exercise:\n",
    "* Hash maps\n"
   ]
  },
  {
   "cell_type": "code",
   "execution_count": 2,
   "metadata": {},
   "outputs": [
    {
     "name": "stdout",
     "output_type": "stream",
     "text": [
      "julio = 1234\n",
      "Not found\n"
     ]
    }
   ],
   "source": [
    "try:\n",
    "   \n",
    "    entries_number = int(input(\"Enter the number of entries in the phone: \"))\n",
    "    phone_contacts = {}\n",
    "\n",
    "    for _ in range(entries_number):\n",
    "        contact_name, contact_number = input().split(\" \")\n",
    "        phone_contacts[contact_name] = contact_number\n",
    "\n",
    "    while True:\n",
    "        contact_search = input(\"Name of the contact you need, please: \")\n",
    "        if contact_search in phone_contacts.keys():\n",
    "            print(f\"{contact_search} = {phone_contacts[contact_search]}\")\n",
    "        else:\n",
    "            print(\"Not found\")\n",
    "            break\n",
    "\n",
    "except:\n",
    "    print(\"Must be a number\")\n"
   ]
  },
  {
   "cell_type": "markdown",
   "metadata": {},
   "source": [
    "## Strings\n",
    "Hacker Rank exercise: https://www.hackerrank.com/challenges/the-minion-game/problem?isFullScreen=false\n",
    "\n",
    "Both players are given the same string. Player1 has to make words starting with consonants and Player2 has to make words starting with vowels.\n",
    "\n",
    "    Points are added to the consonant player if no vowels are found in the analyzed position. Points will be added to the vowels player in the opposite case. Finally, a comparison of the counts generated in the previous step determines the winner.\n",
    "\n",
    "#### Topics covered with this exercise:\n",
    "* Strings"
   ]
  },
  {
   "cell_type": "code",
   "execution_count": 6,
   "metadata": {},
   "outputs": [
    {
     "name": "stdout",
     "output_type": "stream",
     "text": [
      "Stuart 12\n"
     ]
    }
   ],
   "source": [
    "def minion_game(string):\n",
    "    vowels_player_count = 0\n",
    "    consonanants_player_count = 0\n",
    "    vowels = \"AEIOU\"\n",
    "    \n",
    "    for letter in range(len(string)):\n",
    "\n",
    "        if string[letter] not in vowels:\n",
    "            consonanants_player_count += len(string) - letter\n",
    "\n",
    "        else:\n",
    "            vowels_player_count += len(string) - letter\n",
    "\n",
    "    if vowels_player_count == consonanants_player_count:\n",
    "        print(\"Draw\")\n",
    "    \n",
    "    elif vowels_player_count < consonanants_player_count:\n",
    "        print(f\"Stuart {consonanants_player_count}\")\n",
    "\n",
    "    else:\n",
    "        print(f\"Kevin {vowels_player_count}\")\n",
    "\n",
    "if __name__ == '__main__':\n",
    "    s = input().upper()\n",
    "    minion_game(s)"
   ]
  }
 ],
 "metadata": {
  "kernelspec": {
   "display_name": "Python 3.9.13 ('base')",
   "language": "python",
   "name": "python3"
  },
  "language_info": {
   "codemirror_mode": {
    "name": "ipython",
    "version": 3
   },
   "file_extension": ".py",
   "mimetype": "text/x-python",
   "name": "python",
   "nbconvert_exporter": "python",
   "pygments_lexer": "ipython3",
   "version": "3.9.13"
  },
  "orig_nbformat": 4,
  "vscode": {
   "interpreter": {
    "hash": "2fffb9416fef0f14d8c3180827823918a8a81fff6ed4e50b546e97970237eb04"
   }
  }
 },
 "nbformat": 4,
 "nbformat_minor": 2
}
